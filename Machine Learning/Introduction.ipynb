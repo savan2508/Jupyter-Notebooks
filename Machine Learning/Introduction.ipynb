{
 "cells": [
  {
   "cell_type": "markdown",
   "metadata": {},
   "source": [
    "# Introduction to Machine Learning\n",
    "\n",
    "* Machine learning in general is the study of statistical computer algorithms that improve automatically through data.\n",
    "\n",
    "* This means unlike typical computer algorithms that rely on human input for what approach to take, ML algorithms infer the best approach from the data itself.\n",
    "\n",
    "* Machine learning is a subset of AI and is not explicitly programmed on which decisions to make. \n",
    "\n",
    "* Instead the algorithm is designed to infer from the data the most optimal choices to make. \n"
   ]
  },
  {
   "cell_type": "markdown",
   "metadata": {},
   "source": [
    "What kind of the problems the ML can solve? \n",
    "* Credit Scoring\n",
    "* Insurance Risk\n",
    "* Price Forecasting \n",
    "* Spam Filtering \n",
    "* Customer Segmentation "
   ]
  },
  {
   "cell_type": "markdown",
   "metadata": {},
   "source": [
    "### Structure of ML problem framing: \n",
    "* Given features from a data set obtain a desired label. \n",
    "* ML algorithms are often called \"estimators\" since they estimate the desired label or output. \n",
    "\n",
    "* Machine learning algorithms rely on data and a set of statistical methods to learn what features are important in data. For example, predict the price of the house should sell at given its current features. Such as area, bedrooms, bathrooms, etc. \n",
    "\n",
    "* Machine learning is an essential tool that can be utilized to solve very complex problems which are close to impossible to solve without implementing it. \n",
    "    * Problems such as spam email or handwriting identifications require ML for effective solutions. \n",
    "\n",
    "* Even though machine learning became so powerful in recent years, it still has its limitations. \n",
    "   * Machine learning algorithms majorly rely on the data provided.\n",
    "   * Majority of the development of machine learning time is spent on acquiring, cleaning, and organizing the data, not on implementing machine learning.\n"
   ]
  },
  {
   "cell_type": "markdown",
   "metadata": {},
   "source": [
    "There are several types of machine learning models (algorithms) but most commonly used are as follow: \n",
    "    * Supervised Learning \n",
    "    * Unsupervised Learning\n",
    "\n",
    "#### Supervised Learning: \n",
    "* Using historical and labeled data, the ML model predicts a value. \n",
    "\n",
    "#### Unsupervised Learning: \n",
    "* Applied to unlabeled data, the machine learning model discovers possible patterns in the data. "
   ]
  },
  {
   "cell_type": "markdown",
   "metadata": {},
   "source": [
    "### Supervised Learning: \n",
    "* Requires historical labeled data: \n",
    "    * Historical \n",
    "        * Known results and data from the past.\n",
    "    * Labeled\n",
    "        * The desired output is known. \n",
    "        * There are two main label types:\n",
    "            * Categorical value to predict: Classification Task\n",
    "                * Cancerous vs. Benign Tumor\n",
    "                * Fulfillment vs. Credit Default \n",
    "                * Assigning image category\n",
    "                    * Handwriting recognition \n",
    "            * Continuous value to predict: Regression Task\n",
    "                * Predicts Continuous value\n",
    "                    * Future prices\n",
    "                    * Electricity loads\n",
    "                    * Test scores\n",
    "        "
   ]
  },
  {
   "cell_type": "markdown",
   "metadata": {},
   "source": [
    "* The supervised machine learning process starts with collecting and organizing a data set based on history. "
   ]
  },
  {
   "cell_type": "markdown",
   "metadata": {},
   "source": [
    "### Unsupervised Learning\n",
    "* Group and interpret data without a label. For example, clustering customers into separate groups based on their behavior features. \n",
    "* Major downside is because there was no historically correct label, it is much harder to evaluate the performance of an unsupervised learning algorithm. "
   ]
  },
  {
   "cell_type": "markdown",
   "metadata": {},
   "source": []
  }
 ],
 "metadata": {
  "language_info": {
   "name": "python"
  },
  "orig_nbformat": 4
 },
 "nbformat": 4,
 "nbformat_minor": 2
}
